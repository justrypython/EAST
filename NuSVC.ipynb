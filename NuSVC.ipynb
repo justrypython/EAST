{
 "cells": [
  {
   "cell_type": "code",
   "execution_count": 1,
   "metadata": {
    "collapsed": true
   },
   "outputs": [],
   "source": [
    "import os\n",
    "import numpy as np\n",
    "import sys\n",
    "import cv2\n",
    "import matplotlib.pyplot as plt\n",
    "from sklearn.svm import NuSVC, SVC\n",
    "import datetime"
   ]
  },
  {
   "cell_type": "code",
   "execution_count": 2,
   "metadata": {
    "collapsed": true
   },
   "outputs": [],
   "source": [
    "path = '/media/zhaoke/b0685ee4-63e3-4691-ae02-feceacff6996/data/'"
   ]
  },
  {
   "cell_type": "code",
   "execution_count": 3,
   "metadata": {
    "collapsed": true
   },
   "outputs": [],
   "source": [
    "paths = os.listdir(path)"
   ]
  },
  {
   "cell_type": "code",
   "execution_count": 4,
   "metadata": {},
   "outputs": [
    {
     "data": {
      "text/plain": [
       "160000"
      ]
     },
     "execution_count": 4,
     "metadata": {},
     "output_type": "execute_result"
    }
   ],
   "source": [
    "len(paths)"
   ]
  },
  {
   "cell_type": "code",
   "execution_count": 5,
   "metadata": {
    "collapsed": true
   },
   "outputs": [],
   "source": [
    "paths = [i for i in paths if '.txt' in i]"
   ]
  },
  {
   "cell_type": "code",
   "execution_count": 6,
   "metadata": {},
   "outputs": [
    {
     "data": {
      "text/plain": [
       "80000"
      ]
     },
     "execution_count": 6,
     "metadata": {},
     "output_type": "execute_result"
    }
   ],
   "source": [
    "len(paths)"
   ]
  },
  {
   "cell_type": "code",
   "execution_count": 7,
   "metadata": {
    "collapsed": true
   },
   "outputs": [],
   "source": [
    "t1 = paths[0]"
   ]
  },
  {
   "cell_type": "code",
   "execution_count": 8,
   "metadata": {
    "collapsed": true
   },
   "outputs": [],
   "source": [
    "f = open(path+t1, 'r')"
   ]
  },
  {
   "cell_type": "code",
   "execution_count": 9,
   "metadata": {
    "collapsed": true
   },
   "outputs": [],
   "source": [
    "lines = f.readlines()"
   ]
  },
  {
   "cell_type": "code",
   "execution_count": 10,
   "metadata": {},
   "outputs": [
    {
     "data": {
      "text/plain": [
       "['536,292,609,301,606,323,533,313,1\\n',\n",
       " '527,337,544,339,541,357,525,355,2\\n',\n",
       " '638,351,658,353,655,370,636,367,3\\n',\n",
       " '522,377,565,383,563,397,520,392,4\\n',\n",
       " '605,388,622,390,620,405,603,402,5\\n',\n",
       " '658,394,677,397,675,412,655,409,6\\n',\n",
       " '514,417,746,446,739,492,507,463,7\\n',\n",
       " '586,531,892,570,889,589,583,551,8\\n']"
      ]
     },
     "execution_count": 10,
     "metadata": {},
     "output_type": "execute_result"
    }
   ],
   "source": [
    "lines"
   ]
  },
  {
   "cell_type": "code",
   "execution_count": 11,
   "metadata": {
    "collapsed": true
   },
   "outputs": [],
   "source": [
    "lines1 = [i.replace('\\n', '').split(',') for i in lines]"
   ]
  },
  {
   "cell_type": "code",
   "execution_count": 22,
   "metadata": {
    "collapsed": true
   },
   "outputs": [],
   "source": [
    "lines1 = np.array(lines1).astype(np.uint32)"
   ]
  },
  {
   "cell_type": "code",
   "execution_count": 23,
   "metadata": {},
   "outputs": [
    {
     "data": {
      "text/plain": [
       "array([[536, 292, 609, 301, 606, 323, 533, 313,   1],\n",
       "       [527, 337, 544, 339, 541, 357, 525, 355,   2],\n",
       "       [638, 351, 658, 353, 655, 370, 636, 367,   3],\n",
       "       [522, 377, 565, 383, 563, 397, 520, 392,   4],\n",
       "       [605, 388, 622, 390, 620, 405, 603, 402,   5],\n",
       "       [658, 394, 677, 397, 675, 412, 655, 409,   6],\n",
       "       [514, 417, 746, 446, 739, 492, 507, 463,   7],\n",
       "       [586, 531, 892, 570, 889, 589, 583, 551,   8]], dtype=uint32)"
      ]
     },
     "execution_count": 23,
     "metadata": {},
     "output_type": "execute_result"
    }
   ],
   "source": [
    "lines1"
   ]
  },
  {
   "cell_type": "code",
   "execution_count": 24,
   "metadata": {
    "collapsed": true
   },
   "outputs": [],
   "source": [
    "boxes = np.empty((640000, 9))"
   ]
  },
  {
   "cell_type": "code",
   "execution_count": 10,
   "metadata": {
    "collapsed": true
   },
   "outputs": [
    {
     "name": "stdout",
     "output_type": "stream",
     "text": [
      "1000\n",
      "2000\n",
      "3000\n",
      "4000\n",
      "5000\n",
      "6000\n",
      "7000\n",
      "8000\n",
      "9000\n",
      "10000\n",
      "11000\n",
      "12000\n",
      "13000\n",
      "14000\n",
      "15000\n",
      "16000\n",
      "17000\n",
      "18000\n",
      "19000\n",
      "20000\n",
      "21000\n",
      "22000\n",
      "23000\n",
      "24000\n",
      "25000\n",
      "26000\n",
      "27000\n",
      "28000\n",
      "29000\n",
      "30000\n",
      "31000\n",
      "32000\n",
      "33000\n",
      "34000\n",
      "35000\n",
      "36000\n",
      "37000\n",
      "38000\n",
      "39000\n",
      "40000\n",
      "41000\n",
      "42000\n",
      "43000\n",
      "44000\n",
      "45000\n",
      "46000\n",
      "47000\n",
      "48000\n",
      "49000\n",
      "50000\n",
      "51000\n",
      "52000\n",
      "53000\n",
      "54000\n",
      "55000\n",
      "56000\n",
      "57000\n",
      "58000\n",
      "59000\n",
      "60000\n",
      "61000\n",
      "62000\n",
      "63000\n",
      "64000\n",
      "65000\n",
      "66000\n",
      "67000\n",
      "68000\n",
      "69000\n",
      "70000\n",
      "71000\n",
      "72000\n",
      "73000\n",
      "74000\n",
      "75000\n",
      "76000\n",
      "77000\n",
      "78000\n",
      "79000\n",
      "80000\n"
     ]
    }
   ],
   "source": [
    "cnt = 0\n",
    "for txt in paths:\n",
    "    f = open(path+txt, 'r')\n",
    "    f.close()\n",
    "    cnt += 1\n",
    "    if cnt % 1000 == 0:\n",
    "        print cnt"
   ]
  },
  {
   "cell_type": "code",
   "execution_count": 9,
   "metadata": {
    "scrolled": true
   },
   "outputs": [
    {
     "name": "stdout",
     "output_type": "stream",
     "text": [
      "1000\n",
      "2000\n",
      "3000\n",
      "4000\n",
      "5000\n",
      "6000\n",
      "7000\n",
      "8000\n",
      "9000\n",
      "10000\n",
      "11000\n",
      "12000\n",
      "13000\n",
      "14000\n",
      "15000\n",
      "16000\n",
      "17000\n",
      "18000\n",
      "19000\n",
      "20000\n",
      "21000\n",
      "22000\n",
      "23000\n",
      "24000\n",
      "25000\n",
      "26000\n",
      "27000\n",
      "28000\n",
      "29000\n",
      "30000\n",
      "31000\n",
      "32000\n",
      "33000\n",
      "34000\n",
      "35000\n",
      "36000\n",
      "37000\n",
      "38000\n",
      "39000\n",
      "40000\n",
      "41000\n",
      "42000\n",
      "43000\n",
      "44000\n",
      "45000\n",
      "46000\n",
      "47000\n",
      "48000\n",
      "49000\n",
      "50000\n",
      "51000\n",
      "52000\n",
      "53000\n",
      "54000\n",
      "55000\n",
      "56000\n",
      "57000\n",
      "58000\n",
      "59000\n",
      "60000\n",
      "61000\n",
      "62000\n",
      "63000\n",
      "64000\n",
      "65000\n",
      "66000\n",
      "67000\n",
      "68000\n",
      "69000\n",
      "70000\n",
      "71000\n",
      "72000\n",
      "73000\n",
      "74000\n",
      "75000\n",
      "76000\n",
      "77000\n",
      "78000\n",
      "79000\n",
      "80000\n"
     ]
    }
   ],
   "source": [
    "boxes = np.empty((640000, 9))\n",
    "cnt = 0\n",
    "for txt in paths:\n",
    "    f = open(path+txt, 'r')\n",
    "    lines = f.readlines()\n",
    "    f.close()\n",
    "    lines = [i.replace('\\n', '').split(',') for i in lines]\n",
    "    lines = np.array(lines).astype(np.uint32)\n",
    "    boxes[cnt*8:cnt*8+8] = lines\n",
    "    cnt += 1\n",
    "    if cnt % 1000 == 0:\n",
    "        print cnt"
   ]
  },
  {
   "cell_type": "code",
   "execution_count": 11,
   "metadata": {},
   "outputs": [
    {
     "data": {
      "text/plain": [
       "(640000, 9)"
      ]
     },
     "execution_count": 11,
     "metadata": {},
     "output_type": "execute_result"
    }
   ],
   "source": [
    "boxes.shape"
   ]
  },
  {
   "cell_type": "code",
   "execution_count": 12,
   "metadata": {
    "scrolled": true
   },
   "outputs": [
    {
     "data": {
      "text/plain": [
       "46080112"
      ]
     },
     "execution_count": 12,
     "metadata": {},
     "output_type": "execute_result"
    }
   ],
   "source": [
    "sys.getsizeof(boxes)"
   ]
  },
  {
   "cell_type": "code",
   "execution_count": 13,
   "metadata": {
    "collapsed": true
   },
   "outputs": [],
   "source": [
    "clf = NuSVC()"
   ]
  },
  {
   "cell_type": "code",
   "execution_count": 14,
   "metadata": {
    "scrolled": true
   },
   "outputs": [
    {
     "name": "stdout",
     "output_type": "stream",
     "text": [
      "2017-10-23 19:50:54.741211\n",
      "0:00:03.952691\n"
     ]
    }
   ],
   "source": [
    "start_time = datetime.datetime.now()\n",
    "print start_time\n",
    "clf.fit(boxes[:8000, :8], boxes[:8000, 8])\n",
    "end_time = datetime.datetime.now()\n",
    "print end_time - start_time"
   ]
  },
  {
   "cell_type": "code",
   "execution_count": 25,
   "metadata": {
    "scrolled": true
   },
   "outputs": [
    {
     "name": "stdout",
     "output_type": "stream",
     "text": [
      "2017-10-23 14:01:18.177875\n",
      "0:00:15.398890\n"
     ]
    }
   ],
   "source": [
    "start_time = datetime.datetime.now()\n",
    "print start_time\n",
    "clf.fit(boxes[:16000, :8], boxes[:16000, 8])\n",
    "end_time = datetime.datetime.now()\n",
    "print end_time - start_time"
   ]
  },
  {
   "cell_type": "code",
   "execution_count": 26,
   "metadata": {},
   "outputs": [
    {
     "name": "stdout",
     "output_type": "stream",
     "text": [
      "2017-10-23 14:01:38.790141\n",
      "0:01:28.544892\n"
     ]
    }
   ],
   "source": [
    "start_time = datetime.datetime.now()\n",
    "print start_time\n",
    "clf.fit(boxes[:32000, :8], boxes[:32000, 8])\n",
    "end_time = datetime.datetime.now()\n",
    "print end_time - start_time"
   ]
  },
  {
   "cell_type": "code",
   "execution_count": 31,
   "metadata": {},
   "outputs": [
    {
     "data": {
      "text/plain": [
       "array([ 1.,  2.,  3.,  4.,  5.,  6.,  7.,  8.])"
      ]
     },
     "execution_count": 31,
     "metadata": {},
     "output_type": "execute_result"
    }
   ],
   "source": [
    "clf.predict(boxes[10000:10008, :8])"
   ]
  },
  {
   "cell_type": "code",
   "execution_count": 32,
   "metadata": {},
   "outputs": [
    {
     "data": {
      "text/plain": [
       "array([ 7.,  2.,  7.,  7.,  2.,  7.,  7.,  7.])"
      ]
     },
     "execution_count": 32,
     "metadata": {},
     "output_type": "execute_result"
    }
   ],
   "source": [
    "clf.predict(boxes[80000:80008, :8])"
   ]
  },
  {
   "cell_type": "code",
   "execution_count": 33,
   "metadata": {},
   "outputs": [
    {
     "data": {
      "text/plain": [
       "array([[ 536.,  292.,  609., ...,  533.,  313.,    1.],\n",
       "       [ 527.,  337.,  544., ...,  525.,  355.,    2.],\n",
       "       [ 638.,  351.,  658., ...,  636.,  367.,    3.],\n",
       "       ..., \n",
       "       [ 570.,  303.,  592., ...,  569.,  327.,    6.],\n",
       "       [ 416.,  360.,  669., ...,  414.,  433.,    7.],\n",
       "       [ 507.,  529.,  837., ...,  506.,  558.,    8.]])"
      ]
     },
     "execution_count": 33,
     "metadata": {},
     "output_type": "execute_result"
    }
   ],
   "source": [
    "boxes"
   ]
  },
  {
   "cell_type": "code",
   "execution_count": 39,
   "metadata": {
    "collapsed": true
   },
   "outputs": [],
   "source": [
    "boxes_max = np.max(boxes[:, :8], axis=1)\n",
    "boxes_min = np.min(boxes[:, :8], axis=1)"
   ]
  },
  {
   "cell_type": "code",
   "execution_count": 38,
   "metadata": {},
   "outputs": [
    {
     "data": {
      "text/plain": [
       "array([[ 536.,  292.,  609.,  301.,  606.,  323.,  533.,  313.,    1.],\n",
       "       [ 527.,  337.,  544.,  339.,  541.,  357.,  525.,  355.,    2.],\n",
       "       [ 638.,  351.,  658.,  353.,  655.,  370.,  636.,  367.,    3.],\n",
       "       [ 522.,  377.,  565.,  383.,  563.,  397.,  520.,  392.,    4.],\n",
       "       [ 605.,  388.,  622.,  390.,  620.,  405.,  603.,  402.,    5.],\n",
       "       [ 658.,  394.,  677.,  397.,  675.,  412.,  655.,  409.,    6.],\n",
       "       [ 514.,  417.,  746.,  446.,  739.,  492.,  507.,  463.,    7.],\n",
       "       [ 586.,  531.,  892.,  570.,  889.,  589.,  583.,  551.,    8.]])"
      ]
     },
     "execution_count": 38,
     "metadata": {},
     "output_type": "execute_result"
    }
   ],
   "source": [
    "boxes[:8]"
   ]
  },
  {
   "cell_type": "code",
   "execution_count": 41,
   "metadata": {},
   "outputs": [
    {
     "name": "stdout",
     "output_type": "stream",
     "text": [
      "[ 609.  544.  658. ...,  592.  669.  837.]\n",
      "[ 292.  337.  351. ...,  303.  360.  506.]\n"
     ]
    }
   ],
   "source": [
    "print boxes_max\n",
    "print boxes_min"
   ]
  },
  {
   "cell_type": "code",
   "execution_count": 42,
   "metadata": {},
   "outputs": [
    {
     "name": "stdout",
     "output_type": "stream",
     "text": [
      "(640000,)\n",
      "(640000,)\n"
     ]
    }
   ],
   "source": [
    "print boxes_max.shape\n",
    "print boxes_min.shape"
   ]
  },
  {
   "cell_type": "code",
   "execution_count": 44,
   "metadata": {
    "collapsed": true
   },
   "outputs": [],
   "source": [
    "boxes_max = boxes_max.reshape((-1, 1))\n",
    "boxes_min = boxes_min.reshape((-1, 1))"
   ]
  },
  {
   "cell_type": "code",
   "execution_count": 45,
   "metadata": {},
   "outputs": [
    {
     "name": "stdout",
     "output_type": "stream",
     "text": [
      "(640000, 1)\n",
      "(640000, 1)\n"
     ]
    }
   ],
   "source": [
    "print boxes_max.shape\n",
    "print boxes_min.shape"
   ]
  },
  {
   "cell_type": "code",
   "execution_count": 48,
   "metadata": {},
   "outputs": [
    {
     "data": {
      "text/plain": [
       "array([[ 317.],\n",
       "       [ 207.],\n",
       "       [ 307.],\n",
       "       ..., \n",
       "       [ 289.],\n",
       "       [ 309.],\n",
       "       [ 331.]])"
      ]
     },
     "execution_count": 48,
     "metadata": {},
     "output_type": "execute_result"
    }
   ],
   "source": [
    "boxes_max - boxes_min"
   ]
  },
  {
   "cell_type": "code",
   "execution_count": 49,
   "metadata": {},
   "outputs": [
    {
     "data": {
      "text/plain": [
       "array([[ 0.76971609,  0.        ,  1.        , ...,  0.0977918 ,\n",
       "         0.76025237,  0.06624606],\n",
       "       [ 0.9178744 ,  0.        ,  1.        , ...,  0.09661836,\n",
       "         0.90821256,  0.08695652],\n",
       "       [ 0.93485342,  0.        ,  1.        , ...,  0.06188925,\n",
       "         0.92833876,  0.05211726],\n",
       "       ..., \n",
       "       [ 0.92387543,  0.        ,  1.        , ...,  0.08304498,\n",
       "         0.92041522,  0.08304498],\n",
       "       [ 0.18122977,  0.        ,  1.        , ...,  0.27508091,\n",
       "         0.17475728,  0.23624595],\n",
       "       [ 0.00302115,  0.0694864 ,  1.        , ...,  0.20241692,\n",
       "         0.        ,  0.1570997 ]])"
      ]
     },
     "execution_count": 49,
     "metadata": {},
     "output_type": "execute_result"
    }
   ],
   "source": [
    "(boxes[:, :8] - boxes_min)/(boxes_max - boxes_min)"
   ]
  },
  {
   "cell_type": "code",
   "execution_count": 50,
   "metadata": {
    "collapsed": true
   },
   "outputs": [],
   "source": [
    "a = (boxes[:, :8] - boxes_min)/(boxes_max - boxes_min)"
   ]
  },
  {
   "cell_type": "code",
   "execution_count": 51,
   "metadata": {},
   "outputs": [
    {
     "data": {
      "text/plain": [
       "(640000, 8)"
      ]
     },
     "execution_count": 51,
     "metadata": {},
     "output_type": "execute_result"
    }
   ],
   "source": [
    "a.shape"
   ]
  },
  {
   "cell_type": "code",
   "execution_count": 66,
   "metadata": {},
   "outputs": [
    {
     "name": "stdout",
     "output_type": "stream",
     "text": [
      "2017-10-23 14:17:38.733661\n",
      "0:00:33.870528\n"
     ]
    }
   ],
   "source": [
    "clf = SVC()\n",
    "start_time = datetime.datetime.now()\n",
    "print start_time\n",
    "clf.fit(a[:32000], boxes[:32000, 8])\n",
    "end_time = datetime.datetime.now()\n",
    "print end_time - start_time"
   ]
  },
  {
   "cell_type": "code",
   "execution_count": 71,
   "metadata": {},
   "outputs": [
    {
     "data": {
      "text/plain": [
       "array([ 1.,  3.,  3.,  1.,  3.,  3.,  7.,  8.,  1.,  3.,  3.,  1.,  3.,\n",
       "        3.,  1.,  8.,  1.,  3.,  3.,  3.,  3.,  3.,  1.,  8.,  1.,  2.,\n",
       "        3.,  7.,  2.,  3.,  7.,  8.,  1.,  3.,  3.,  1.,  3.,  3.,  7.,\n",
       "        8.,  1.,  3.,  3.,  1.,  3.,  3.,  7.,  8.,  1.,  1.,  3.,  7.,\n",
       "        6.,  3.,  7.,  8.,  1.,  3.,  3.,  3.,  3.,  3.,  1.,  8.,  1.,\n",
       "        3.,  3.,  1.,  3.,  3.,  7.,  8.,  1.,  3.,  3.,  1.,  3.,  3.,\n",
       "        7.,  8.,  1.,  2.,  3.,  1.])"
      ]
     },
     "execution_count": 71,
     "metadata": {},
     "output_type": "execute_result"
    }
   ],
   "source": [
    "clf.predict(a[80016:80100])"
   ]
  },
  {
   "cell_type": "code",
   "execution_count": 68,
   "metadata": {},
   "outputs": [
    {
     "data": {
      "text/plain": [
       "array([ 1.,  3.,  3.,  1.,  3.,  3.,  7.,  8.])"
      ]
     },
     "execution_count": 68,
     "metadata": {},
     "output_type": "execute_result"
    }
   ],
   "source": [
    "clf.predict(a[10000:10008])"
   ]
  },
  {
   "cell_type": "code",
   "execution_count": 72,
   "metadata": {},
   "outputs": [
    {
     "name": "stdout",
     "output_type": "stream",
     "text": [
      "2017-10-23 14:20:28.124333\n",
      "0:00:34.372978\n"
     ]
    }
   ],
   "source": [
    "clf = SVC()\n",
    "start_time = datetime.datetime.now()\n",
    "print start_time\n",
    "clf.fit(a[:32000], boxes[:32000, 8])\n",
    "end_time = datetime.datetime.now()\n",
    "print end_time - start_time"
   ]
  },
  {
   "cell_type": "code",
   "execution_count": 80,
   "metadata": {},
   "outputs": [
    {
     "data": {
      "text/plain": [
       "array([[ 1.,  3.,  3.,  1.,  3.,  3.,  7.,  8.],\n",
       "       [ 1.,  3.,  3.,  1.,  3.,  3.,  1.,  8.],\n",
       "       [ 1.,  3.,  3.,  3.,  3.,  3.,  1.,  8.],\n",
       "       [ 1.,  2.,  3.,  7.,  2.,  3.,  7.,  8.],\n",
       "       [ 1.,  3.,  3.,  1.,  3.,  3.,  7.,  8.],\n",
       "       [ 1.,  3.,  3.,  1.,  3.,  3.,  7.,  8.],\n",
       "       [ 1.,  1.,  3.,  7.,  6.,  3.,  7.,  8.],\n",
       "       [ 1.,  3.,  3.,  3.,  3.,  3.,  1.,  8.],\n",
       "       [ 1.,  3.,  3.,  1.,  3.,  3.,  7.,  8.],\n",
       "       [ 1.,  3.,  3.,  1.,  3.,  3.,  7.,  8.]])"
      ]
     },
     "execution_count": 80,
     "metadata": {},
     "output_type": "execute_result"
    }
   ],
   "source": [
    "clf.predict(a[80016:80096]).reshape((-1, 8))"
   ]
  },
  {
   "cell_type": "code",
   "execution_count": 116,
   "metadata": {
    "collapsed": true
   },
   "outputs": [],
   "source": [
    "#calculate the area\n",
    "def area(p):\n",
    "    p = p.reshape((-1, 2))\n",
    "    return 0.5 * abs(sum(x0*y1 - x1*y0 \n",
    "                    for ((x0, y0), (x1, y1)) in segments(p)))\n",
    "def segments(p):\n",
    "    return zip(p, np.concatenate((p[1:], [p[0]])))"
   ]
  },
  {
   "cell_type": "code",
   "execution_count": 123,
   "metadata": {
    "collapsed": true
   },
   "outputs": [],
   "source": [
    "p = [[0, 4, 2, 2, 2, 0, 0, 0], [0, 2, 2, 2, 2, 0, 0, 0]]"
   ]
  },
  {
   "cell_type": "code",
   "execution_count": 124,
   "metadata": {},
   "outputs": [
    {
     "data": {
      "text/plain": [
       "6.0"
      ]
     },
     "execution_count": 124,
     "metadata": {},
     "output_type": "execute_result"
    }
   ],
   "source": [
    "area(np.array(p[0]))"
   ]
  },
  {
   "cell_type": "code",
   "execution_count": 125,
   "metadata": {
    "collapsed": true
   },
   "outputs": [],
   "source": [
    "p = np.array(p)"
   ]
  },
  {
   "cell_type": "code",
   "execution_count": 126,
   "metadata": {},
   "outputs": [
    {
     "data": {
      "text/plain": [
       "array([[0, 4, 2, 2, 2, 0, 0, 0],\n",
       "       [0, 2, 2, 2, 2, 0, 0, 0]])"
      ]
     },
     "execution_count": 126,
     "metadata": {},
     "output_type": "execute_result"
    }
   ],
   "source": [
    "p"
   ]
  },
  {
   "cell_type": "code",
   "execution_count": 127,
   "metadata": {},
   "outputs": [
    {
     "data": {
      "text/plain": [
       "array([ 6.,  4.])"
      ]
     },
     "execution_count": 127,
     "metadata": {},
     "output_type": "execute_result"
    }
   ],
   "source": [
    "np.apply_along_axis(area, 1, p)"
   ]
  },
  {
   "cell_type": "code",
   "execution_count": 129,
   "metadata": {},
   "outputs": [
    {
     "data": {
      "text/plain": [
       "array([[ 536.,  292.,  609., ...,  323.,  533.,  313.],\n",
       "       [ 527.,  337.,  544., ...,  357.,  525.,  355.],\n",
       "       [ 638.,  351.,  658., ...,  370.,  636.,  367.],\n",
       "       ..., \n",
       "       [ 570.,  303.,  592., ...,  327.,  569.,  327.],\n",
       "       [ 416.,  360.,  669., ...,  445.,  414.,  433.],\n",
       "       [ 507.,  529.,  837., ...,  573.,  506.,  558.]])"
      ]
     },
     "execution_count": 129,
     "metadata": {},
     "output_type": "execute_result"
    }
   ],
   "source": [
    "boxes[:, :8]"
   ]
  },
  {
   "cell_type": "code",
   "execution_count": 131,
   "metadata": {
    "collapsed": true
   },
   "outputs": [],
   "source": [
    "areas = np.apply_along_axis(area, 1, boxes[:, :8])"
   ]
  },
  {
   "cell_type": "code",
   "execution_count": 135,
   "metadata": {
    "collapsed": true
   },
   "outputs": [],
   "source": [
    "area0 = area(boxes[:, :8][0])"
   ]
  },
  {
   "cell_type": "code",
   "execution_count": 136,
   "metadata": {},
   "outputs": [
    {
     "data": {
      "text/plain": [
       "1598.0"
      ]
     },
     "execution_count": 136,
     "metadata": {},
     "output_type": "execute_result"
    }
   ],
   "source": [
    "area0"
   ]
  },
  {
   "cell_type": "code",
   "execution_count": 137,
   "metadata": {
    "collapsed": true
   },
   "outputs": [],
   "source": [
    "area1 = area(boxes[:, :8][1])"
   ]
  },
  {
   "cell_type": "code",
   "execution_count": 138,
   "metadata": {},
   "outputs": [
    {
     "data": {
      "text/plain": [
       "302.0"
      ]
     },
     "execution_count": 138,
     "metadata": {},
     "output_type": "execute_result"
    }
   ],
   "source": [
    "area1"
   ]
  },
  {
   "cell_type": "code",
   "execution_count": 134,
   "metadata": {},
   "outputs": [
    {
     "data": {
      "text/plain": [
       "array([  1598. ,    302. ,    328. , ...,    517.5,  18493. ,   9585. ])"
      ]
     },
     "execution_count": 134,
     "metadata": {},
     "output_type": "execute_result"
    }
   ],
   "source": [
    "areas"
   ]
  },
  {
   "cell_type": "code",
   "execution_count": 151,
   "metadata": {
    "collapsed": true
   },
   "outputs": [],
   "source": [
    "areas = areas.reshape((-1, 8))"
   ]
  },
  {
   "cell_type": "code",
   "execution_count": 152,
   "metadata": {},
   "outputs": [
    {
     "data": {
      "text/plain": [
       "array([[  1598. ,    302. ,    328. , ...,    300. ,  10875. ,   6082.5],\n",
       "       [  2194.5,    441. ,    430.5, ...,    414. ,  13914.5,   7056. ],\n",
       "       [  1214. ,    241. ,    274. , ...,    125.5,   7626. ,   4645.5],\n",
       "       ..., \n",
       "       [  1449. ,    409. ,    387.5, ...,    384. ,  15132. ,   5268.5],\n",
       "       [  1865.5,    384. ,    364.5, ...,    344. ,  11440.5,   7328. ],\n",
       "       [  2858.5,    542. ,    627.5, ...,    517.5,  18493. ,   9585. ]])"
      ]
     },
     "execution_count": 152,
     "metadata": {},
     "output_type": "execute_result"
    }
   ],
   "source": [
    "areas"
   ]
  },
  {
   "cell_type": "code",
   "execution_count": 154,
   "metadata": {
    "collapsed": true
   },
   "outputs": [],
   "source": [
    "id_areas = areas[:, 7]"
   ]
  },
  {
   "cell_type": "code",
   "execution_count": 155,
   "metadata": {},
   "outputs": [
    {
     "data": {
      "text/plain": [
       "array([ 6082.5,  7056. ,  4645.5, ...,  5268.5,  7328. ,  9585. ])"
      ]
     },
     "execution_count": 155,
     "metadata": {},
     "output_type": "execute_result"
    }
   ],
   "source": [
    "id_areas"
   ]
  },
  {
   "cell_type": "code",
   "execution_count": 170,
   "metadata": {
    "collapsed": true
   },
   "outputs": [],
   "source": [
    "id_areas_tile = np.tile(id_areas, (8, 1))"
   ]
  },
  {
   "cell_type": "code",
   "execution_count": 171,
   "metadata": {},
   "outputs": [
    {
     "data": {
      "text/plain": [
       "array([[ 6082.5,  7056. ,  4645.5, ...,  5268.5,  7328. ,  9585. ],\n",
       "       [ 6082.5,  7056. ,  4645.5, ...,  5268.5,  7328. ,  9585. ],\n",
       "       [ 6082.5,  7056. ,  4645.5, ...,  5268.5,  7328. ,  9585. ],\n",
       "       ..., \n",
       "       [ 6082.5,  7056. ,  4645.5, ...,  5268.5,  7328. ,  9585. ],\n",
       "       [ 6082.5,  7056. ,  4645.5, ...,  5268.5,  7328. ,  9585. ],\n",
       "       [ 6082.5,  7056. ,  4645.5, ...,  5268.5,  7328. ,  9585. ]])"
      ]
     },
     "execution_count": 171,
     "metadata": {},
     "output_type": "execute_result"
    }
   ],
   "source": [
    "id_areas_tile"
   ]
  },
  {
   "cell_type": "code",
   "execution_count": 172,
   "metadata": {},
   "outputs": [
    {
     "data": {
      "text/plain": [
       "(8, 80000)"
      ]
     },
     "execution_count": 172,
     "metadata": {},
     "output_type": "execute_result"
    }
   ],
   "source": [
    "id_areas_tile.shape"
   ]
  },
  {
   "cell_type": "code",
   "execution_count": 173,
   "metadata": {
    "collapsed": true
   },
   "outputs": [],
   "source": [
    "id_areas_tile = id_areas_tile.T"
   ]
  },
  {
   "cell_type": "code",
   "execution_count": 174,
   "metadata": {},
   "outputs": [
    {
     "data": {
      "text/plain": [
       "array([[ 6082.5,  6082.5,  6082.5, ...,  6082.5,  6082.5,  6082.5],\n",
       "       [ 7056. ,  7056. ,  7056. , ...,  7056. ,  7056. ,  7056. ],\n",
       "       [ 4645.5,  4645.5,  4645.5, ...,  4645.5,  4645.5,  4645.5],\n",
       "       ..., \n",
       "       [ 5268.5,  5268.5,  5268.5, ...,  5268.5,  5268.5,  5268.5],\n",
       "       [ 7328. ,  7328. ,  7328. , ...,  7328. ,  7328. ,  7328. ],\n",
       "       [ 9585. ,  9585. ,  9585. , ...,  9585. ,  9585. ,  9585. ]])"
      ]
     },
     "execution_count": 174,
     "metadata": {},
     "output_type": "execute_result"
    }
   ],
   "source": [
    "id_areas_tile"
   ]
  },
  {
   "cell_type": "code",
   "execution_count": 175,
   "metadata": {},
   "outputs": [
    {
     "data": {
      "text/plain": [
       "(80000, 8)"
      ]
     },
     "execution_count": 175,
     "metadata": {},
     "output_type": "execute_result"
    }
   ],
   "source": [
    "id_areas_tile.shape"
   ]
  },
  {
   "cell_type": "code",
   "execution_count": 176,
   "metadata": {
    "scrolled": true
   },
   "outputs": [
    {
     "data": {
      "text/plain": [
       "array([[ 0.26272092,  0.04965064,  0.0539252 , ...,  0.04932182,\n",
       "         1.78791615,  1.        ],\n",
       "       [ 0.3110119 ,  0.0625    ,  0.0610119 , ...,  0.05867347,\n",
       "         1.97200964,  1.        ],\n",
       "       [ 0.26132817,  0.05187816,  0.05898181, ...,  0.02701539,\n",
       "         1.64158863,  1.        ],\n",
       "       ..., \n",
       "       [ 0.27503084,  0.0776312 ,  0.07355035, ...,  0.07288602,\n",
       "         2.87216475,  1.        ],\n",
       "       [ 0.25457151,  0.05240175,  0.04974072, ...,  0.04694323,\n",
       "         1.5612036 ,  1.        ],\n",
       "       [ 0.2982264 ,  0.05654669,  0.06546688, ...,  0.05399061,\n",
       "         1.92936881,  1.        ]])"
      ]
     },
     "execution_count": 176,
     "metadata": {},
     "output_type": "execute_result"
    }
   ],
   "source": [
    "areas / id_areas_tile"
   ]
  },
  {
   "cell_type": "code",
   "execution_count": 143,
   "metadata": {},
   "outputs": [
    {
     "data": {
      "text/plain": [
       "array([[ 586.,  531.,  892., ...,  583.,  551.,    8.],\n",
       "       [ 581.,  436.,  917., ...,  581.,  457.,    8.],\n",
       "       [ 500.,  651.,  749., ...,  498.,  669.,    8.],\n",
       "       ..., \n",
       "       [ 614.,  550.,  871., ...,  614.,  570.,    8.],\n",
       "       [ 666.,  606.,  926., ...,  668.,  634.,    8.],\n",
       "       [ 507.,  529.,  837., ...,  506.,  558.,    8.]])"
      ]
     },
     "execution_count": 143,
     "metadata": {},
     "output_type": "execute_result"
    }
   ],
   "source": [
    "boxes[boxes[:, 8]==8]"
   ]
  },
  {
   "cell_type": "code",
   "execution_count": 145,
   "metadata": {},
   "outputs": [
    {
     "name": "stdout",
     "output_type": "stream",
     "text": [
      "[ 586.  531.  892.  570.  889.  589.  583.  551.    8.]\n",
      "[ 581.  436.  917.  430.  917.  451.  581.  457.    8.]\n"
     ]
    }
   ],
   "source": [
    "print boxes[7]\n",
    "print boxes[15]"
   ]
  },
  {
   "cell_type": "code",
   "execution_count": 146,
   "metadata": {
    "collapsed": true
   },
   "outputs": [],
   "source": [
    "a = np.array([[1], [2], [3]])"
   ]
  },
  {
   "cell_type": "code",
   "execution_count": 147,
   "metadata": {},
   "outputs": [
    {
     "data": {
      "text/plain": [
       "array([[1],\n",
       "       [2],\n",
       "       [3]])"
      ]
     },
     "execution_count": 147,
     "metadata": {},
     "output_type": "execute_result"
    }
   ],
   "source": [
    "a"
   ]
  },
  {
   "cell_type": "code",
   "execution_count": 148,
   "metadata": {},
   "outputs": [
    {
     "data": {
      "text/plain": [
       "array([[3],\n",
       "       [6],\n",
       "       [9]])"
      ]
     },
     "execution_count": 148,
     "metadata": {},
     "output_type": "execute_result"
    }
   ],
   "source": [
    "a * 3"
   ]
  },
  {
   "cell_type": "code",
   "execution_count": 150,
   "metadata": {},
   "outputs": [
    {
     "data": {
      "text/plain": [
       "array([[1, 1, 1],\n",
       "       [2, 2, 2],\n",
       "       [3, 3, 3]])"
      ]
     },
     "execution_count": 150,
     "metadata": {},
     "output_type": "execute_result"
    }
   ],
   "source": [
    "np.tile(a, (1, 3))"
   ]
  },
  {
   "cell_type": "code",
   "execution_count": 177,
   "metadata": {},
   "outputs": [
    {
     "data": {
      "text/plain": [
       "(640000, 9)"
      ]
     },
     "execution_count": 177,
     "metadata": {},
     "output_type": "execute_result"
    }
   ],
   "source": [
    "boxes.shape"
   ]
  },
  {
   "cell_type": "code",
   "execution_count": 2,
   "metadata": {
    "collapsed": true
   },
   "outputs": [],
   "source": [
    "def calc_xy(p0, p1, p2):\n",
    "    cos = calc_cos(p0, p1, p2)\n",
    "    dis = calc_dis(p0, p2)\n",
    "    return dis * cos, dis * np.sqrt(1 - np.square(cos))\n",
    "\n",
    "def calc_dis(p0, p1):\n",
    "    return np.sqrt(np.sum(np.square(p0-p1)))\n",
    "\n",
    "def calc_cos(p0, p1, p2):\n",
    "    A = p1 - p0\n",
    "    B = p2 - p0\n",
    "    num = np.dot(A, B)\n",
    "    demon = np.linalg.norm(A) * np.linalg.norm(B)\n",
    "    return num / demon"
   ]
  },
  {
   "cell_type": "code",
   "execution_count": 181,
   "metadata": {
    "scrolled": true
   },
   "outputs": [
    {
     "data": {
      "text/plain": [
       "(640000, 18)"
      ]
     },
     "execution_count": 181,
     "metadata": {},
     "output_type": "execute_result"
    }
   ],
   "source": [
    "test.shape"
   ]
  },
  {
   "cell_type": "code",
   "execution_count": 9,
   "metadata": {},
   "outputs": [],
   "source": [
    "#calculate the area\n",
    "def area(p):\n",
    "    p = p.reshape((-1, 2))\n",
    "    return 0.5 * abs(sum(x0*y1 - x1*y0 \n",
    "                    for ((x0, y0), (x1, y1)) in segments(p)))\n",
    "def segments(p):\n",
    "    return zip(p, np.concatenate((p[1:], [p[0]])))"
   ]
  },
  {
   "cell_type": "code",
   "execution_count": 10,
   "metadata": {
    "collapsed": true
   },
   "outputs": [],
   "source": [
    "def calc_new_xy(boxes):\n",
    "    box0 = boxes[0]\n",
    "    box1 = boxes[1]\n",
    "    x, y = calc_xy(box1[4:6], box1[6:], box0[:2])\n",
    "    dis = calc_dis(box1[4:6], box1[6:])\n",
    "    area0 = area(box0)\n",
    "    area1 = area(box1)\n",
    "    return x/dis, y/dis, area0/area1"
   ]
  },
  {
   "cell_type": "code",
   "execution_count": null,
   "metadata": {
    "collapsed": true
   },
   "outputs": [],
   "source": []
  }
 ],
 "metadata": {
  "kernelspec": {
   "display_name": "Python 2",
   "language": "python",
   "name": "python2"
  },
  "language_info": {
   "codemirror_mode": {
    "name": "ipython",
    "version": 2
   },
   "file_extension": ".py",
   "mimetype": "text/x-python",
   "name": "python",
   "nbconvert_exporter": "python",
   "pygments_lexer": "ipython2",
   "version": "2.7.13"
  }
 },
 "nbformat": 4,
 "nbformat_minor": 2
}
